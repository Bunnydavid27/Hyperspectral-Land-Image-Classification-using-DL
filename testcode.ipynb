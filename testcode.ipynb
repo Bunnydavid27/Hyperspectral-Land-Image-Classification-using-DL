{
 "cells": [
  {
   "cell_type": "code",
   "execution_count": 1,
   "id": "4872207b",
   "metadata": {},
   "outputs": [],
   "source": [
    "from pyngrok import ngrok\n",
    "import streamlit as st"
   ]
  },
  {
   "cell_type": "code",
   "execution_count": 2,
   "id": "0ccca06b",
   "metadata": {},
   "outputs": [],
   "source": [
    "import tensorflow as tf\n",
    "model_location = r'working\\models\\rgb_model.h5'"
   ]
  },
  {
   "cell_type": "code",
   "execution_count": 3,
   "id": "46d2da42",
   "metadata": {},
   "outputs": [],
   "source": [
    "model = tf.keras.models.load_model(model_location)"
   ]
  },
  {
   "cell_type": "code",
   "execution_count": 4,
   "id": "b1d18b85",
   "metadata": {},
   "outputs": [
    {
     "name": "stdout",
     "output_type": "stream",
     "text": [
      "Model: \"sequential_1\"\n",
      "_________________________________________________________________\n",
      " Layer (type)                Output Shape              Param #   \n",
      "=================================================================\n",
      " resnet50 (Functional)       (None, 4, 4, 2048)        23587712  \n",
      "                                                                 \n",
      " flatten_1 (Flatten)         (None, 32768)             0         \n",
      "                                                                 \n",
      " dropout_1 (Dropout)         (None, 32768)             0         \n",
      "                                                                 \n",
      " dense_2 (Dense)             (None, 150)               4915350   \n",
      "                                                                 \n",
      " dense_3 (Dense)             (None, 10)                1510      \n",
      "                                                                 \n",
      "=================================================================\n",
      "Total params: 28,504,572\n",
      "Trainable params: 28,451,452\n",
      "Non-trainable params: 53,120\n",
      "_________________________________________________________________\n"
     ]
    }
   ],
   "source": [
    "model.summary()"
   ]
  },
  {
   "cell_type": "code",
   "execution_count": 16,
   "id": "513e9fe7",
   "metadata": {},
   "outputs": [
    {
     "name": "stdout",
     "output_type": "stream",
     "text": [
      "Writing app.py\n"
     ]
    }
   ],
   "source": [
    "%%writefile app.py\n",
    "st.title('Hyperspectral Image Classification')"
   ]
  },
  {
   "cell_type": "code",
   "execution_count": 28,
   "id": "7b4112ee",
   "metadata": {},
   "outputs": [
    {
     "name": "stdout",
     "output_type": "stream",
     "text": [
      "^C\n"
     ]
    }
   ],
   "source": [
    "python -m streamlit run your_script.py\n"
   ]
  },
  {
   "cell_type": "code",
   "execution_count": 14,
   "id": "ba9a8203",
   "metadata": {},
   "outputs": [
    {
     "name": "stdout",
     "output_type": "stream",
     "text": [
      "1/1 [==============================] - 0s 442ms/step\n"
     ]
    },
    {
     "data": {
      "text/plain": [
       "array([9], dtype=int64)"
      ]
     },
     "execution_count": 14,
     "metadata": {},
     "output_type": "execute_result"
    }
   ],
   "source": [
    "import numpy as np\n",
    "import tensorflow as tf\n",
    "image = tf.keras.utils.load_img(r\"Dataset/EuroSAT/Residential/Residential_504.jpg\", target_size=(100,100,3))\n",
    "input_arr = tf.keras.utils.img_to_array(image)\n",
    "input_arr = np.array([input_arr])  # Convert single image to a batch.\n",
    "predictions = model.predict(input_arr)\n",
    "output_class_id = np.argmax(predictions, axis=1)\n",
    "output_class_id"
   ]
  },
  {
   "cell_type": "code",
   "execution_count": 10,
   "id": "6b6f2208",
   "metadata": {},
   "outputs": [],
   "source": [
    "class_name_list = np.array(['AnnualCrop', 'Forest', 'HerbaceousVegetation', 'Highway',\n",
    "       'Industrial', 'Pasture', 'PermanentCrop', 'Residential', 'River',\n",
    "       'SeaLake'])"
   ]
  },
  {
   "cell_type": "code",
   "execution_count": 11,
   "id": "0a543d48",
   "metadata": {},
   "outputs": [
    {
     "data": {
      "text/plain": [
       "array(['SeaLake'], dtype='<U20')"
      ]
     },
     "execution_count": 11,
     "metadata": {},
     "output_type": "execute_result"
    }
   ],
   "source": [
    "class_name_list[output_class_id]"
   ]
  },
  {
   "cell_type": "code",
   "execution_count": 20,
   "id": "9bbc0b94",
   "metadata": {},
   "outputs": [
    {
     "name": "stdout",
     "output_type": "stream",
     "text": [
      "1/1 [==============================] - 0s 76ms/step\n",
      "AnnualCrop\n"
     ]
    },
    {
     "data": {
      "image/png": "[encoded data removed]",
      "text/plain": [
       "<Figure size 640x480 with 1 Axes>"
      ]
     },
     "metadata": {},
     "output_type": "display_data"
    }
   ],
   "source": [
    "from tensorflow.keras.preprocessing import image\n",
    "import matplotlib.pyplot as plt\n",
    "import numpy as np\n",
    "img = image.load_img(r'C:\\Users\\david\\Data_Sciences\\DL\\Kaggle\\EuroSAT\\Dataset\\EuroSAT\\SeaLake\\SeaLake_37.jpg', target_size=(64, 64))\n",
    "imgplot = plt.imshow(img)\n",
    "x = image.img_to_array(img)\n",
    "x = np.expand_dims(x, axis=0)\n",
    "images = np.hstack([x])\n",
    "classes = model.predict(images, batch_size=32)\n",
    "print(class_name_list[np.argmax(classes)])"
   ]
  },
  {
   "cell_type": "code",
   "execution_count": 24,
   "id": "00268c1e",
   "metadata": {},
   "outputs": [
    {
     "name": "stdout",
     "output_type": "stream",
     "text": [
      "1/1 [==============================] - 0s 75ms/step\n",
      "AnnualCrop\n"
     ]
    }
   ],
   "source": [
    "from tensorflow.keras.preprocessing.image import load_img, img_to_array, ImageDataGenerator\n",
    "from keras.applications.resnet import preprocess_input\n",
    "file_name=r'C:\\Users\\david\\Data_Sciences\\DL\\Kaggle\\EuroSAT\\Dataset\\EuroSAT\\SeaLake\\SeaLake_37.jpg'\n",
    "my_image=0\n",
    "#load the image\n",
    "my_image = load_img(file_name, target_size=(64, 64))\n",
    "#preprocess the image\n",
    "my_image = img_to_array(my_image)\n",
    "my_image = my_image.reshape((1, my_image.shape[0], my_image.shape[1], my_image.shape[2]))\n",
    "my_image = preprocess_input(my_image)\n",
    "result=model.predict(my_image)\n",
    "import numpy as np\n",
    "class_value=np.argmax(result)\n",
    "print(class_name_list[np.argmax(classes)])"
   ]
  },
  {
   "cell_type": "code",
   "execution_count": null,
   "id": "254e5ce2",
   "metadata": {},
   "outputs": [],
   "source": []
  }
 ],
 "metadata": {
  "kernelspec": {
   "display_name": "Python 3 (ipykernel)",
   "language": "python",
   "name": "python3"
  },
  "language_info": {
   "codemirror_mode": {
    "name": "ipython",
    "version": 3
   },
   "file_extension": ".py",
   "mimetype": "text/x-python",
   "name": "python",
   "nbconvert_exporter": "python",
   "pygments_lexer": "ipython3",
   "version": "3.9.13"
  }
 },
 "nbformat": 4,
 "nbformat_minor": 5
}
